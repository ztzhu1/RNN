{
  "cells": [
    {
      "cell_type": "code",
      "execution_count": 4,
      "metadata": {
        "id": "uPF1oUYAGUNi"
      },
      "outputs": [],
      "source": [
        "import tensorflow as tf\n",
        "from plot_utils import plot_train_process"
      ]
    },
    {
      "cell_type": "code",
      "execution_count": 5,
      "metadata": {
        "colab": {
          "base_uri": "https://localhost:8080/"
        },
        "id": "OV6JNuZRGUNj",
        "outputId": "2f99a666-b095-462c-851e-487dd1fcb244"
      },
      "outputs": [
        {
          "output_type": "stream",
          "name": "stdout",
          "text": [
            "Downloading data from https://storage.googleapis.com/download.tensorflow.org/data/shakespeare.txt\n",
            "1122304/1115394 [==============================] - 0s 0us/step\n",
            "1130496/1115394 [==============================] - 0s 0us/step\n"
          ]
        }
      ],
      "source": [
        "poem_path = tf.keras.utils.get_file('shakespeare.txt', 'https://storage.googleapis.com/download.tensorflow.org/data/shakespeare.txt')"
      ]
    },
    {
      "cell_type": "code",
      "execution_count": 6,
      "metadata": {
        "colab": {
          "base_uri": "https://localhost:8080/"
        },
        "id": "oQPQ86yoGUNk",
        "outputId": "f2e59ccc-cb04-4c86-c5fd-0a65e4ce311a"
      },
      "outputs": [
        {
          "output_type": "stream",
          "name": "stdout",
          "text": [
            "First Citizen:\n",
            "Before we proceed any further, hear me speak.\n",
            "\n",
            "All:\n",
            "Speak, speak.\n",
            "\n",
            "First Citizen:\n",
            "You\n"
          ]
        }
      ],
      "source": [
        "poem = open(poem_path, 'rb').read().decode(encoding='utf-8')\n",
        "print(poem[:100])"
      ]
    },
    {
      "cell_type": "code",
      "execution_count": 7,
      "metadata": {
        "colab": {
          "base_uri": "https://localhost:8080/"
        },
        "id": "IUY8i2ohGUNl",
        "outputId": "56f8f78c-9ee2-448a-eb3a-8376273a157e"
      },
      "outputs": [
        {
          "output_type": "stream",
          "name": "stdout",
          "text": [
            "vocabulary size: 65\n"
          ]
        }
      ],
      "source": [
        "vocab = sorted(set(poem))\n",
        "vocab_size = len(vocab)\n",
        "print('vocabulary size:', vocab_size)"
      ]
    },
    {
      "cell_type": "code",
      "execution_count": 8,
      "metadata": {
        "colab": {
          "base_uri": "https://localhost:8080/"
        },
        "id": "xpN-Tw5RGUNl",
        "outputId": "bed226cd-28b7-4852-b1c3-a41eb1df8c27"
      },
      "outputs": [
        {
          "output_type": "stream",
          "name": "stdout",
          "text": [
            "tf.Tensor(\n",
            "[[14  1 42 65]\n",
            " [15 50 43  0]], shape=(2, 4), dtype=int64)\n",
            "tf.Tensor([b'z' b'!' b'[UNK]' b'[UNK]'], shape=(4,), dtype=string)\n"
          ]
        }
      ],
      "source": [
        "char_to_id = tf.keras.layers.StringLookup(vocabulary=vocab)\n",
        "print(char_to_id([['A', '\\n', 'c', 'z'], ['B', 'k', 'd', '\\t']]))\n",
        "id_to_char = tf.keras.layers.StringLookup(vocabulary=char_to_id.get_vocabulary(), invert=True)\n",
        "print(id_to_char([65, 3, -1, 100]))"
      ]
    },
    {
      "cell_type": "markdown",
      "metadata": {
        "id": "mM6YyxboGUNm"
      },
      "source": [
        "### Create Dataset"
      ]
    },
    {
      "cell_type": "code",
      "execution_count": 9,
      "metadata": {
        "colab": {
          "base_uri": "https://localhost:8080/"
        },
        "id": "YXDdz8xZGUNn",
        "outputId": "b2b6068a-4285-4e26-a6d8-65573083722f"
      },
      "outputs": [
        {
          "output_type": "execute_result",
          "data": {
            "text/plain": [
              "11043"
            ]
          },
          "metadata": {},
          "execution_count": 9
        }
      ],
      "source": [
        "sequence_len = 100\n",
        "\n",
        "poem_char = tf.strings.unicode_split(poem, 'UTF-8')\n",
        "sequence_ds = tf.data.Dataset.from_tensor_slices(char_to_id(poem_char)).batch(sequence_len + 1, drop_remainder=True)\n",
        "len(sequence_ds)"
      ]
    },
    {
      "cell_type": "code",
      "execution_count": 10,
      "metadata": {
        "colab": {
          "base_uri": "https://localhost:8080/"
        },
        "id": "8sTKYLWUGUNo",
        "outputId": "74911643-b673-44f4-efe2-960ecfd129de"
      },
      "outputs": [
        {
          "output_type": "execute_result",
          "data": {
            "text/plain": [
              "<PrefetchDataset element_spec=(TensorSpec(shape=(64, 100), dtype=tf.int64, name=None), TensorSpec(shape=(64, 100), dtype=tf.int64, name=None))>"
            ]
          },
          "metadata": {},
          "execution_count": 10
        }
      ],
      "source": [
        "def split_input_target(sequence):\n",
        "    input_text = sequence[:-1]\n",
        "    target_text = sequence[1:]\n",
        "    return input_text, target_text\n",
        "\n",
        "poem_ds = sequence_ds.map(split_input_target)\n",
        "\n",
        "BATCH_SIZE = 64\n",
        "BUFFER_SIZE = 10000\n",
        "\n",
        "poem_ds = (\n",
        "    poem_ds\n",
        "    .cache()\n",
        "    .shuffle(BUFFER_SIZE)\n",
        "    .batch(BATCH_SIZE, drop_remainder=True)\n",
        "    .prefetch(tf.data.experimental.AUTOTUNE))\n",
        "\n",
        "poem_ds"
      ]
    },
    {
      "cell_type": "markdown",
      "metadata": {
        "id": "pOez7vVhGUNp"
      },
      "source": [
        "### Build Model"
      ]
    },
    {
      "cell_type": "code",
      "execution_count": 11,
      "metadata": {
        "colab": {
          "base_uri": "https://localhost:8080/"
        },
        "id": "IO62YdTnGUNq",
        "outputId": "dc8ea652-eb35-482d-9083-f3435aa0c235"
      },
      "outputs": [
        {
          "output_type": "stream",
          "name": "stdout",
          "text": [
            "(64, 100)\n",
            "(64, 100)\n",
            "(64, 100, 66)\n",
            "Model: \"trainer\"\n",
            "_________________________________________________________________\n",
            " Layer (type)                Output Shape              Param #   \n",
            "=================================================================\n",
            " embedding (Embedding)       multiple                  16896     \n",
            "                                                                 \n",
            " gru (GRU)                   multiple                  3938304   \n",
            "                                                                 \n",
            " dense (Dense)               multiple                  67650     \n",
            "                                                                 \n",
            "=================================================================\n",
            "Total params: 4,022,850\n",
            "Trainable params: 4,022,850\n",
            "Non-trainable params: 0\n",
            "_________________________________________________________________\n"
          ]
        }
      ],
      "source": [
        "class Trainer(tf.keras.Model):\n",
        "    def __init__(self, vocab_size, embedding_dim=256, rnn_units=1024):\n",
        "        super().__init__()\n",
        "        self.vocab_size = vocab_size\n",
        "        self.embedding_dim = embedding_dim\n",
        "        self.rnn_units = rnn_units\n",
        "        self.emb = tf.keras.layers.Embedding(vocab_size + 1, embedding_dim)\n",
        "        self.gru = tf.keras.layers.GRU(rnn_units,\n",
        "                                        return_sequences=True,\n",
        "                                        return_state=True)\n",
        "        self.dense = tf.keras.layers.Dense(vocab_size + 1)\n",
        "\n",
        "    def call(self, X, state=None, return_state=False, training=False):\n",
        "        X = self.emb(X, training=training)\n",
        "        if state is None:\n",
        "            state = self.gru.get_initial_state(X)\n",
        "        X, state = self.gru(X, initial_state=state, training=training)\n",
        "        X = self.dense(X, training=training)\n",
        "\n",
        "        if return_state:\n",
        "            return X, state\n",
        "        else:\n",
        "            return X\n",
        "\n",
        "model = Trainer(vocab_size)\n",
        "for X, labels in poem_ds.take(1):\n",
        "    print(X.shape)\n",
        "    print(labels.shape)\n",
        "    output = model(X)\n",
        "print(output.shape)\n",
        "model.summary()"
      ]
    },
    {
      "cell_type": "markdown",
      "metadata": {
        "id": "r7hXZpJ4GUNq"
      },
      "source": [
        "### Train"
      ]
    },
    {
      "cell_type": "code",
      "execution_count": 12,
      "metadata": {
        "colab": {
          "base_uri": "https://localhost:8080/",
          "height": 1000
        },
        "id": "NAIThai2GUNr",
        "outputId": "5ff1d3c3-adf6-406d-f404-a215854bebb6"
      },
      "outputs": [
        {
          "output_type": "stream",
          "name": "stdout",
          "text": [
            "Epoch 1/50\n",
            "138/138 [==============================] - 12s 66ms/step - loss: 2.8187 - accuracy: 0.2581 - val_loss: 2.2568 - val_accuracy: 0.3544\n",
            "Epoch 2/50\n",
            "138/138 [==============================] - 9s 67ms/step - loss: 2.0911 - accuracy: 0.3920 - val_loss: 1.9280 - val_accuracy: 0.4330\n",
            "Epoch 3/50\n",
            "138/138 [==============================] - 9s 67ms/step - loss: 1.8139 - accuracy: 0.4639 - val_loss: 1.6981 - val_accuracy: 0.4941\n",
            "Epoch 4/50\n",
            "138/138 [==============================] - 10s 70ms/step - loss: 1.6370 - accuracy: 0.5116 - val_loss: 1.5592 - val_accuracy: 0.5310\n",
            "Epoch 5/50\n",
            "138/138 [==============================] - 9s 68ms/step - loss: 1.5212 - accuracy: 0.5429 - val_loss: 1.4673 - val_accuracy: 0.5583\n",
            "Epoch 6/50\n",
            "138/138 [==============================] - 9s 69ms/step - loss: 1.4437 - accuracy: 0.5629 - val_loss: 1.3912 - val_accuracy: 0.5760\n",
            "Epoch 7/50\n",
            "138/138 [==============================] - 9s 68ms/step - loss: 1.3860 - accuracy: 0.5773 - val_loss: 1.3398 - val_accuracy: 0.5886\n",
            "Epoch 8/50\n",
            "138/138 [==============================] - 10s 71ms/step - loss: 1.3424 - accuracy: 0.5877 - val_loss: 1.2959 - val_accuracy: 0.6000\n",
            "Epoch 9/50\n",
            "138/138 [==============================] - 10s 71ms/step - loss: 1.3036 - accuracy: 0.5973 - val_loss: 1.2612 - val_accuracy: 0.6086\n",
            "Epoch 10/50\n",
            "138/138 [==============================] - 10s 69ms/step - loss: 1.2676 - accuracy: 0.6065 - val_loss: 1.2180 - val_accuracy: 0.6204\n",
            "Epoch 11/50\n",
            "138/138 [==============================] - 10s 71ms/step - loss: 1.2316 - accuracy: 0.6163 - val_loss: 1.1767 - val_accuracy: 0.6323\n",
            "Epoch 12/50\n",
            "138/138 [==============================] - 9s 67ms/step - loss: 1.2008 - accuracy: 0.6242 - val_loss: 1.1515 - val_accuracy: 0.6395\n",
            "Epoch 13/50\n",
            "138/138 [==============================] - 9s 67ms/step - loss: 1.1658 - accuracy: 0.6341 - val_loss: 1.1074 - val_accuracy: 0.6525\n",
            "Epoch 14/50\n",
            "138/138 [==============================] - 10s 70ms/step - loss: 1.1332 - accuracy: 0.6430 - val_loss: 1.0773 - val_accuracy: 0.6611\n",
            "Epoch 15/50\n",
            "138/138 [==============================] - 9s 67ms/step - loss: 1.0959 - accuracy: 0.6541 - val_loss: 1.0302 - val_accuracy: 0.6746\n",
            "Epoch 16/50\n",
            "138/138 [==============================] - 12s 88ms/step - loss: 1.0602 - accuracy: 0.6651 - val_loss: 0.9875 - val_accuracy: 0.6885\n",
            "Epoch 17/50\n",
            "138/138 [==============================] - 11s 76ms/step - loss: 1.0215 - accuracy: 0.6769 - val_loss: 0.9516 - val_accuracy: 0.7011\n",
            "Epoch 18/50\n",
            "138/138 [==============================] - 10s 71ms/step - loss: 0.9827 - accuracy: 0.6882 - val_loss: 0.9080 - val_accuracy: 0.7146\n",
            "Epoch 19/50\n",
            "138/138 [==============================] - 10s 74ms/step - loss: 0.9399 - accuracy: 0.7023 - val_loss: 0.8664 - val_accuracy: 0.7281\n",
            "Epoch 20/50\n",
            "138/138 [==============================] - 9s 68ms/step - loss: 0.8983 - accuracy: 0.7157 - val_loss: 0.8185 - val_accuracy: 0.7436\n",
            "Epoch 21/50\n",
            "138/138 [==============================] - 9s 67ms/step - loss: 0.8555 - accuracy: 0.7295 - val_loss: 0.7724 - val_accuracy: 0.7620\n",
            "Epoch 22/50\n",
            "138/138 [==============================] - 10s 71ms/step - loss: 0.8117 - accuracy: 0.7435 - val_loss: 0.7322 - val_accuracy: 0.7741\n",
            "Epoch 23/50\n",
            "138/138 [==============================] - 9s 68ms/step - loss: 0.7703 - accuracy: 0.7568 - val_loss: 0.6966 - val_accuracy: 0.7850\n",
            "Epoch 24/50\n",
            "138/138 [==============================] - 10s 69ms/step - loss: 0.7312 - accuracy: 0.7700 - val_loss: 0.6507 - val_accuracy: 0.8011\n",
            "Epoch 25/50\n",
            "138/138 [==============================] - 9s 69ms/step - loss: 0.6948 - accuracy: 0.7818 - val_loss: 0.6196 - val_accuracy: 0.8110\n",
            "Epoch 26/50\n",
            "138/138 [==============================] - 10s 74ms/step - loss: 0.6619 - accuracy: 0.7919 - val_loss: 0.5957 - val_accuracy: 0.8180\n",
            "Epoch 27/50\n",
            "138/138 [==============================] - 9s 68ms/step - loss: 0.6316 - accuracy: 0.8015 - val_loss: 0.5653 - val_accuracy: 0.8286\n",
            "Epoch 28/50\n",
            "138/138 [==============================] - 9s 67ms/step - loss: 0.6055 - accuracy: 0.8094 - val_loss: 0.5377 - val_accuracy: 0.8348\n",
            "Epoch 29/50\n",
            "138/138 [==============================] - 10s 72ms/step - loss: 0.5799 - accuracy: 0.8173 - val_loss: 0.5185 - val_accuracy: 0.8414\n",
            "Epoch 30/50\n",
            "138/138 [==============================] - 10s 71ms/step - loss: 0.5626 - accuracy: 0.8224 - val_loss: 0.4999 - val_accuracy: 0.8471\n",
            "Epoch 31/50\n",
            "138/138 [==============================] - 10s 71ms/step - loss: 0.5394 - accuracy: 0.8296 - val_loss: 0.4813 - val_accuracy: 0.8522\n",
            "Epoch 32/50\n",
            "138/138 [==============================] - 9s 67ms/step - loss: 0.5249 - accuracy: 0.8334 - val_loss: 0.4728 - val_accuracy: 0.8531\n",
            "Epoch 33/50\n",
            "138/138 [==============================] - 10s 71ms/step - loss: 0.5104 - accuracy: 0.8377 - val_loss: 0.4586 - val_accuracy: 0.8581\n",
            "Epoch 34/50\n",
            "138/138 [==============================] - 10s 71ms/step - loss: 0.4996 - accuracy: 0.8406 - val_loss: 0.4501 - val_accuracy: 0.8597\n",
            "Epoch 35/50\n",
            "138/138 [==============================] - 9s 67ms/step - loss: 0.4897 - accuracy: 0.8434 - val_loss: 0.4395 - val_accuracy: 0.8632\n",
            "Epoch 36/50\n",
            "138/138 [==============================] - 9s 67ms/step - loss: 0.4775 - accuracy: 0.8470 - val_loss: 0.4292 - val_accuracy: 0.8666\n",
            "Epoch 37/50\n",
            "138/138 [==============================] - 10s 71ms/step - loss: 0.4713 - accuracy: 0.8482 - val_loss: 0.4236 - val_accuracy: 0.8666\n",
            "Epoch 38/50\n",
            "138/138 [==============================] - 10s 71ms/step - loss: 0.4594 - accuracy: 0.8517 - val_loss: 0.4154 - val_accuracy: 0.8691\n",
            "Epoch 39/50\n",
            "138/138 [==============================] - 10s 71ms/step - loss: 0.4581 - accuracy: 0.8514 - val_loss: 0.4198 - val_accuracy: 0.8659\n",
            "Epoch 40/50\n",
            "138/138 [==============================] - 10s 71ms/step - loss: 0.4558 - accuracy: 0.8516 - val_loss: 0.4079 - val_accuracy: 0.8699\n",
            "Epoch 41/50\n",
            "138/138 [==============================] - 10s 71ms/step - loss: 0.4499 - accuracy: 0.8529 - val_loss: 0.4092 - val_accuracy: 0.8686\n",
            "Epoch 42/50\n",
            "138/138 [==============================] - 9s 67ms/step - loss: 0.4425 - accuracy: 0.8553 - val_loss: 0.3972 - val_accuracy: 0.8731\n",
            "Epoch 43/50\n",
            "138/138 [==============================] - 9s 67ms/step - loss: 0.4365 - accuracy: 0.8568 - val_loss: 0.4007 - val_accuracy: 0.8716\n",
            "Epoch 44/50\n",
            "138/138 [==============================] - 10s 70ms/step - loss: 0.4372 - accuracy: 0.8561 - val_loss: 0.3982 - val_accuracy: 0.8709\n",
            "Epoch 45/50\n",
            "138/138 [==============================] - 10s 71ms/step - loss: 0.4334 - accuracy: 0.8565 - val_loss: 0.3972 - val_accuracy: 0.8717\n",
            "Epoch 46/50\n",
            "138/138 [==============================] - 9s 67ms/step - loss: 0.4319 - accuracy: 0.8572 - val_loss: 0.3908 - val_accuracy: 0.8739\n",
            "Epoch 47/50\n",
            "138/138 [==============================] - 10s 71ms/step - loss: 0.4277 - accuracy: 0.8586 - val_loss: 0.3902 - val_accuracy: 0.8735\n",
            "Epoch 48/50\n",
            "138/138 [==============================] - 10s 71ms/step - loss: 0.4295 - accuracy: 0.8575 - val_loss: 0.3913 - val_accuracy: 0.8720\n",
            "Epoch 49/50\n",
            "138/138 [==============================] - 10s 71ms/step - loss: 0.4284 - accuracy: 0.8574 - val_loss: 0.3912 - val_accuracy: 0.8723\n",
            "Epoch 50/50\n",
            "138/138 [==============================] - 10s 70ms/step - loss: 0.4291 - accuracy: 0.8565 - val_loss: 0.3906 - val_accuracy: 0.8724\n"
          ]
        },
        {
          "output_type": "display_data",
          "data": {
            "text/plain": [
              "<Figure size 864x288 with 2 Axes>"
            ],
            "image/png": "[encoded data removed]"
          },
          "metadata": {
            "needs_background": "light"
          }
        }
      ],
      "source": [
        "val_ds = poem_ds.take(len(poem_ds) // 5)\n",
        "train_ds = poem_ds.skip(len(poem_ds) // 5)\n",
        "loss = tf.keras.losses.SparseCategoricalCrossentropy(from_logits=True)\n",
        "model.compile('adam', loss=loss, metrics=['accuracy'])\n",
        "tf.config.run_functions_eagerly(True)\n",
        "history = model.fit(train_ds, epochs=50, validation_data=val_ds)\n",
        "plot_train_process(history)"
      ]
    },
    {
      "cell_type": "code",
      "execution_count": 29,
      "metadata": {
        "id": "Fisz3JAVGUNr"
      },
      "outputs": [],
      "source": [
        "class Generator(tf.keras.Model):\n",
        "    def __init__(self, model):\n",
        "        super().__init__()\n",
        "        self.model = model\n",
        "\n",
        "    def step(self, X, state):\n",
        "        if len(X.shape) == 1:\n",
        "            X = tf.reshape(X, (1, -1)) # batch_size = 1\n",
        "        Y_pred, state = self.model(X, state=state, return_state=True)\n",
        "        return tf.random.categorical(Y_pred[0, -1:, :], num_samples=1), state\n",
        "\n",
        "    def call(self, X0, num_gen=1):\n",
        "        X = tf.strings.unicode_split(X0, 'UTF-8')\n",
        "        X = char_to_id(X)\n",
        "        X = tf.reshape(X, (1, -1))\n",
        "        outputs = []\n",
        "        state = None\n",
        "        for t in range(num_gen):\n",
        "            X, state = self.step(X, state)\n",
        "            outputs.append(X)\n",
        "        ids = tf.concat(outputs, axis=-1)[0]\n",
        "        sentence = self.id_to_sentence(ids)\n",
        "        return (X0 + sentence).numpy().decode()\n",
        "\n",
        "    def id_to_sentence(self, ids):\n",
        "        chars = id_to_char(ids)\n",
        "        sentence = tf.strings.reduce_join(chars, axis=-1)\n",
        "        return sentence"
      ]
    },
    {
      "cell_type": "code",
      "execution_count": 41,
      "metadata": {
        "colab": {
          "base_uri": "https://localhost:8080/"
        },
        "id": "iCEr1RuVGUNs",
        "outputId": "64d9e323-4270-4110-daa5-5033b1dc4271"
      },
      "outputs": [
        {
          "output_type": "stream",
          "name": "stdout",
          "text": [
            "Nice!\n",
            "Why, train shall go to that. The day is born,\n",
            "In arms suns to austress with whom, the bigger.\n",
            "\n",
            "HASTINGS:\n",
            "Gramercy, fly.\n",
            "Farewell, my lord: such is th\n"
          ]
        }
      ],
      "source": [
        "gen = Generator(model)\n",
        "print(gen(tf.constant('Nice!'), 150))"
      ]
    }
  ],
  "metadata": {
    "kernelspec": {
      "display_name": "Python 3.8.8 ('base')",
      "language": "python",
      "name": "python3"
    },
    "language_info": {
      "codemirror_mode": {
        "name": "ipython",
        "version": 3
      },
      "file_extension": ".py",
      "mimetype": "text/x-python",
      "name": "python",
      "nbconvert_exporter": "python",
      "pygments_lexer": "ipython3",
      "version": "3.8.8"
    },
    "orig_nbformat": 4,
    "vscode": {
      "interpreter": {
        "hash": "9f477485d285a5f10682b4eba39a7346cdf553c3edeb76419d766de0b2758d1b"
      }
    },
    "colab": {
      "provenance": [],
      "collapsed_sections": []
    },
    "accelerator": "GPU"
  },
  "nbformat": 4,
  "nbformat_minor": 0
}